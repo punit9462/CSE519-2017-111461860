{
 "cells": [
  {
   "cell_type": "code",
   "execution_count": 39,
   "metadata": {},
   "outputs": [],
   "source": [
    "import pandas as pd\n",
    "import numpy as numpy\n",
    "df = pd.read_csv('/Users/punit/SBU/Acads/DSF/Assignments/HW2/properties_2016.csv') # TODO: Need to change these files' locations"
   ]
  },
  {
   "cell_type": "code",
   "execution_count": 40,
   "metadata": {},
   "outputs": [
    {
     "name": "stdout",
     "output_type": "stream",
     "text": [
      "0.483474666975\n"
     ]
    }
   ],
   "source": [
    "df_clean1 = df[numpy.isfinite(df['landtaxvaluedollarcnt'])]\n",
    "df_clean1 = df_clean1[numpy.isfinite(df_clean1['finishedsquarefeet15'])]\n",
    "P1 = numpy.corrcoef(df_clean1['landtaxvaluedollarcnt'], df_clean1['finishedsquarefeet15'])\n",
    "print (P1[0][1]) # = 0.483474666975"
   ]
  },
  {
   "cell_type": "code",
   "execution_count": 41,
   "metadata": {},
   "outputs": [
    {
     "name": "stdout",
     "output_type": "stream",
     "text": [
      "0.473567380667\n"
     ]
    }
   ],
   "source": [
    "df_clean2 = df[numpy.isfinite(df['landtaxvaluedollarcnt'])]\n",
    "df_clean2 = df_clean2[numpy.isfinite(df_clean2['structuretaxvaluedollarcnt'])]\n",
    "P2 = numpy.corrcoef(df_clean2['landtaxvaluedollarcnt'], df_clean2['structuretaxvaluedollarcnt'])\n",
    "print (P2[0][1]) # = 0.473567380667"
   ]
  },
  {
   "cell_type": "code",
   "execution_count": 42,
   "metadata": {},
   "outputs": [
    {
     "name": "stdout",
     "output_type": "stream",
     "text": [
      "0.0928491807632\n"
     ]
    }
   ],
   "source": [
    "df_clean3 = df[numpy.isfinite(df['landtaxvaluedollarcnt'])]\n",
    "df_clean3 = df_clean3[numpy.isfinite(df_clean3['numberofstories'])]\n",
    "P3 = numpy.corrcoef(df_clean3['landtaxvaluedollarcnt'], df_clean3['numberofstories'])\n",
    "print (P3[0][1]) # = 0.0928491807632"
   ]
  },
  {
   "cell_type": "code",
   "execution_count": 43,
   "metadata": {},
   "outputs": [
    {
     "name": "stdout",
     "output_type": "stream",
     "text": [
      "0.22678006572\n"
     ]
    }
   ],
   "source": [
    "df_clean4 = df[numpy.isfinite(df['landtaxvaluedollarcnt'])]\n",
    "df_clean4 = df_clean4[numpy.isfinite(df_clean4['garagetotalsqft'])]\n",
    "P4 = numpy.corrcoef(df_clean4['landtaxvaluedollarcnt'], df_clean4['garagetotalsqft'])\n",
    "print (P4[0][1]) # = 0.22678006572"
   ]
  },
  {
   "cell_type": "code",
   "execution_count": 44,
   "metadata": {},
   "outputs": [
    {
     "name": "stdout",
     "output_type": "stream",
     "text": [
      "0.0658910214864\n"
     ]
    }
   ],
   "source": [
    "df_clean5 = df[numpy.isfinite(df['landtaxvaluedollarcnt'])]\n",
    "df_clean5 = df_clean5[numpy.isfinite(df_clean5['yearbuilt'])]\n",
    "P5 = numpy.corrcoef(df_clean5['landtaxvaluedollarcnt'], df_clean5['yearbuilt'])\n",
    "print (P5[0][1]) # = 0.0658910214864"
   ]
  },
  {
   "cell_type": "code",
   "execution_count": 45,
   "metadata": {},
   "outputs": [
    {
     "name": "stdout",
     "output_type": "stream",
     "text": [
      "0.658946757075\n"
     ]
    }
   ],
   "source": [
    "df_clean6 = df[numpy.isfinite(df['finishedsquarefeet15'])]\n",
    "df_clean6 = df_clean6[numpy.isfinite(df_clean6['structuretaxvaluedollarcnt'])]\n",
    "P6 = numpy.corrcoef(df_clean6['finishedsquarefeet15'], df_clean6['structuretaxvaluedollarcnt'])\n",
    "print (P6[0][1]) # = 0.658946757075"
   ]
  },
  {
   "cell_type": "code",
   "execution_count": 46,
   "metadata": {},
   "outputs": [
    {
     "name": "stdout",
     "output_type": "stream",
     "text": [
      "0.246558333423\n"
     ]
    }
   ],
   "source": [
    "df_clean7 = df[numpy.isfinite(df['finishedsquarefeet15'])]\n",
    "df_clean7 = df_clean7[numpy.isfinite(df_clean7['numberofstories'])]\n",
    "P7 = numpy.corrcoef(df_clean7['finishedsquarefeet15'], df_clean7['numberofstories'])\n",
    "print (P7[0][1]) # = 0.246558333423"
   ]
  },
  {
   "cell_type": "code",
   "execution_count": 47,
   "metadata": {},
   "outputs": [
    {
     "name": "stdout",
     "output_type": "stream",
     "text": [
      "0.0716662839735\n"
     ]
    }
   ],
   "source": [
    "df_clean8 = df[numpy.isfinite(df['finishedsquarefeet15'])]\n",
    "df_clean8 = df_clean8[numpy.isfinite(df_clean8['garagetotalsqft'])]\n",
    "P8 = numpy.corrcoef(df_clean8['finishedsquarefeet15'], df_clean8['garagetotalsqft'])\n",
    "print (P8[0][1]) # = 0.0716662839735"
   ]
  },
  {
   "cell_type": "code",
   "execution_count": 48,
   "metadata": {},
   "outputs": [
    {
     "name": "stdout",
     "output_type": "stream",
     "text": [
      "0.104073663068\n"
     ]
    }
   ],
   "source": [
    "df_clean9 = df[numpy.isfinite(df['finishedsquarefeet15'])]\n",
    "df_clean9 = df_clean9[numpy.isfinite(df_clean9['yearbuilt'])]\n",
    "P9 = numpy.corrcoef(df_clean9['finishedsquarefeet15'], df_clean9['yearbuilt'])\n",
    "print (P9[0][1]) # = 0.104073663068"
   ]
  },
  {
   "cell_type": "code",
   "execution_count": 49,
   "metadata": {},
   "outputs": [
    {
     "name": "stdout",
     "output_type": "stream",
     "text": [
      "0.0796391569708\n"
     ]
    }
   ],
   "source": [
    "df_clean10 = df[numpy.isfinite(df['structuretaxvaluedollarcnt'])]\n",
    "df_clean10 = df_clean10[numpy.isfinite(df_clean10['numberofstories'])]\n",
    "P10 = numpy.corrcoef(df_clean10['structuretaxvaluedollarcnt'], df_clean10['numberofstories'])\n",
    "print (P10[0][1]) # = 0.0796391569708"
   ]
  },
  {
   "cell_type": "code",
   "execution_count": 50,
   "metadata": {},
   "outputs": [
    {
     "name": "stdout",
     "output_type": "stream",
     "text": [
      "0.400616065513\n"
     ]
    }
   ],
   "source": [
    "df_clean11 = df[numpy.isfinite(df['structuretaxvaluedollarcnt'])]\n",
    "df_clean11 = df_clean11[numpy.isfinite(df_clean11['garagetotalsqft'])]\n",
    "P11 = numpy.corrcoef(df_clean11['structuretaxvaluedollarcnt'], df_clean11['garagetotalsqft'])\n",
    "print (P11[0][1]) # = 0.400616065513"
   ]
  },
  {
   "cell_type": "code",
   "execution_count": 51,
   "metadata": {},
   "outputs": [
    {
     "name": "stdout",
     "output_type": "stream",
     "text": [
      "0.15625605628\n"
     ]
    }
   ],
   "source": [
    "df_clean12 = df[numpy.isfinite(df['structuretaxvaluedollarcnt'])]\n",
    "df_clean12 = df_clean12[numpy.isfinite(df_clean12['yearbuilt'])]\n",
    "P12 = numpy.corrcoef(df_clean12['structuretaxvaluedollarcnt'], df_clean12['yearbuilt'])\n",
    "print (P12[0][1]) # = 0.15625605628"
   ]
  },
  {
   "cell_type": "code",
   "execution_count": 52,
   "metadata": {},
   "outputs": [
    {
     "name": "stdout",
     "output_type": "stream",
     "text": [
      "0.043098177268\n"
     ]
    }
   ],
   "source": [
    "df_clean13 = df[numpy.isfinite(df['numberofstories'])]\n",
    "df_clean13 = df_clean13[numpy.isfinite(df_clean13['garagetotalsqft'])]\n",
    "P13 = numpy.corrcoef(df_clean13['numberofstories'], df_clean13['garagetotalsqft'])\n",
    "print (P13[0][1]) # = 0.043098177268"
   ]
  },
  {
   "cell_type": "code",
   "execution_count": 53,
   "metadata": {},
   "outputs": [
    {
     "name": "stdout",
     "output_type": "stream",
     "text": [
      "0.310203302258\n"
     ]
    }
   ],
   "source": [
    "df_clean14 = df[numpy.isfinite(df['numberofstories'])]\n",
    "df_clean14 = df_clean14[numpy.isfinite(df_clean14['yearbuilt'])]\n",
    "P14 = numpy.corrcoef(df_clean14['numberofstories'], df_clean14['yearbuilt'])\n",
    "print (P14[0][1]) # = 0.310203302258"
   ]
  },
  {
   "cell_type": "code",
   "execution_count": 54,
   "metadata": {},
   "outputs": [
    {
     "name": "stdout",
     "output_type": "stream",
     "text": [
      "-0.0450730369249\n"
     ]
    }
   ],
   "source": [
    "df_clean15 = df[numpy.isfinite(df['garagetotalsqft'])]\n",
    "df_clean15 = df_clean15[numpy.isfinite(df_clean15['yearbuilt'])]\n",
    "P15 = numpy.corrcoef(df_clean15['garagetotalsqft'], df_clean15['yearbuilt'])\n",
    "print (P15[0][1]) # = -0.0450730369249"
   ]
  },
  {
   "cell_type": "code",
   "execution_count": null,
   "metadata": {
    "collapsed": true
   },
   "outputs": [],
   "source": []
  }
 ],
 "metadata": {
  "kernelspec": {
   "display_name": "Python 3",
   "language": "python",
   "name": "python3"
  },
  "language_info": {
   "codemirror_mode": {
    "name": "ipython",
    "version": 3
   },
   "file_extension": ".py",
   "mimetype": "text/x-python",
   "name": "python",
   "nbconvert_exporter": "python",
   "pygments_lexer": "ipython3",
   "version": "3.6.1"
  }
 },
 "nbformat": 4,
 "nbformat_minor": 2
}
