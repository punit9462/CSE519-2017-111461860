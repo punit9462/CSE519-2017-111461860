{
 "cells": [
  {
   "cell_type": "code",
   "execution_count": 1,
   "metadata": {
    "collapsed": true
   },
   "outputs": [],
   "source": [
    "import pandas as pd\n",
    "df = pd.read_csv('/Users/punit/SBU/Acads/DSF/Assignments/HW2/pearson_coeff.csv')\n",
    "struct_val = df['structuretaxvaluedollarcnt']\n",
    "built_year = df['yearbuilt']"
   ]
  },
  {
   "cell_type": "code",
   "execution_count": 3,
   "metadata": {},
   "outputs": [
    {
     "name": "stdout",
     "output_type": "stream",
     "text": [
      "0          1771000.0\n",
      "1          1470000.0\n",
      "2          1253045.0\n",
      "3           711365.0\n",
      "4           663100.0\n",
      "5           636186.0\n",
      "6           623772.0\n",
      "7           603343.0\n",
      "8           603343.0\n",
      "9           603343.0\n",
      "10          602997.0\n",
      "11          602997.0\n",
      "12          602997.0\n",
      "13          602997.0\n",
      "14          602997.0\n",
      "15          602997.0\n",
      "16          510000.0\n",
      "17          468599.0\n",
      "18          462000.0\n",
      "19          440000.0\n",
      "20          420000.0\n",
      "21          393760.0\n",
      "22          390000.0\n",
      "23          380000.0\n",
      "24          375000.0\n",
      "25          375000.0\n",
      "26          355410.0\n",
      "27          350000.0\n",
      "28          337600.0\n",
      "29          335000.0\n",
      "             ...    \n",
      "1026884      12621.0\n",
      "1026885      11196.0\n",
      "1026886      10991.0\n",
      "1026887       3848.0\n",
      "1026888      16887.0\n",
      "1026889     107146.0\n",
      "1026890     128253.0\n",
      "1026891      57542.0\n",
      "1026892      31061.0\n",
      "1026893       8543.0\n",
      "1026894     562958.0\n",
      "1026895      97193.0\n",
      "1026896      49715.0\n",
      "1026897     203051.0\n",
      "1026898      12196.0\n",
      "1026899     450000.0\n",
      "1026900      60086.0\n",
      "1026901     225003.0\n",
      "1026902     122915.0\n",
      "1026903      52877.0\n",
      "1026904       8954.0\n",
      "1026905      99772.0\n",
      "1026906     170422.0\n",
      "1026907     179974.0\n",
      "1026908     129586.0\n",
      "1026909      19390.0\n",
      "1026910     113196.0\n",
      "1026911     106600.0\n",
      "1026912     464090.0\n",
      "1026913        137.0\n",
      "Name: structuretaxvaluedollarcnt, Length: 1026914, dtype: float64\n",
      "0          2015\n",
      "1          2015\n",
      "2          2015\n",
      "3          2015\n",
      "4          2015\n",
      "5          2015\n",
      "6          2015\n",
      "7          2015\n",
      "8          2015\n",
      "9          2015\n",
      "10         2015\n",
      "11         2015\n",
      "12         2015\n",
      "13         2015\n",
      "14         2015\n",
      "15         2015\n",
      "16         2015\n",
      "17         2015\n",
      "18         2015\n",
      "19         2015\n",
      "20         2015\n",
      "21         2015\n",
      "22         2015\n",
      "23         2015\n",
      "24         2015\n",
      "25         2015\n",
      "26         2015\n",
      "27         2015\n",
      "28         2015\n",
      "29         2015\n",
      "           ... \n",
      "1026884    1880\n",
      "1026885    1880\n",
      "1026886    1880\n",
      "1026887    1880\n",
      "1026888    1879\n",
      "1026889    1876\n",
      "1026890    1875\n",
      "1026891    1875\n",
      "1026892    1875\n",
      "1026893    1875\n",
      "1026894    1870\n",
      "1026895    1870\n",
      "1026896    1870\n",
      "1026897    1865\n",
      "1026898    1855\n",
      "1026899    1840\n",
      "1026900    1834\n",
      "1026901    1833\n",
      "1026902    1831\n",
      "1026903    1829\n",
      "1026904    1823\n",
      "1026905    1821\n",
      "1026906    1819\n",
      "1026907    1815\n",
      "1026908    1808\n",
      "1026909    1807\n",
      "1026910    1806\n",
      "1026911    1805\n",
      "1026912    1801\n",
      "1026913    1801\n",
      "Name: yearbuilt, Length: 1026914, dtype: int64\n"
     ]
    }
   ],
   "source": [
    "print (struct_val)\n",
    "print (built_year)"
   ]
  },
  {
   "cell_type": "code",
   "execution_count": 4,
   "metadata": {
    "collapsed": true
   },
   "outputs": [],
   "source": [
    "import numpy\n",
    "P1 = numpy.corrcoef(struct_val, built_year)"
   ]
  },
  {
   "cell_type": "code",
   "execution_count": 6,
   "metadata": {},
   "outputs": [
    {
     "name": "stdout",
     "output_type": "stream",
     "text": [
      "0.19026301363\n"
     ]
    }
   ],
   "source": [
    "print (P1[0][1]) # = 0.19026301363 (they are a bit correlated)"
   ]
  },
  {
   "cell_type": "code",
   "execution_count": 19,
   "metadata": {},
   "outputs": [],
   "source": [
    "df = pd.read_csv('/Users/punit/SBU/Acads/DSF/Assignments/HW2/pc_area_value.csv') # TODO: Need to change these files' locations\n",
    "struct_val = df['structuretaxvaluedollarcnt']\n",
    "total_area = df['finishedsquarefeet15']\n",
    "# print (struct_val)"
   ]
  },
  {
   "cell_type": "code",
   "execution_count": 20,
   "metadata": {},
   "outputs": [
    {
     "name": "stdout",
     "output_type": "stream",
     "text": [
      "0.453562786101\n"
     ]
    }
   ],
   "source": [
    "P2 = numpy.corrcoef(struct_val, total_area)\n",
    "print (P2[0][1]) # = 0.453562786101 "
   ]
  },
  {
   "cell_type": "code",
   "execution_count": 26,
   "metadata": {},
   "outputs": [
    {
     "name": "stdout",
     "output_type": "stream",
     "text": [
      "0         820242\n",
      "1         617114\n",
      "2         520825\n",
      "3         474155\n",
      "4         319611\n",
      "5         318434\n",
      "6         273316\n",
      "7         272347\n",
      "8         268779\n",
      "9         240695\n",
      "10        234330\n",
      "11        229595\n",
      "12        221276\n",
      "13        220918\n",
      "14        214289\n",
      "15        212064\n",
      "16        211572\n",
      "17        201150\n",
      "18        183444\n",
      "19        177333\n",
      "20        173050\n",
      "21        167185\n",
      "22        162850\n",
      "23        161232\n",
      "24        158644\n",
      "25        155325\n",
      "26        155211\n",
      "27        153178\n",
      "28        147916\n",
      "29        145585\n",
      "           ...  \n",
      "100997       400\n",
      "100998       400\n",
      "100999       400\n",
      "101000       400\n",
      "101001       400\n",
      "101002       400\n",
      "101003       400\n",
      "101004       400\n",
      "101005       400\n",
      "101006       400\n",
      "101007       400\n",
      "101008       385\n",
      "101009       384\n",
      "101010       380\n",
      "101011       364\n",
      "101012       360\n",
      "101013       340\n",
      "101014       339\n",
      "101015       331\n",
      "101016       312\n",
      "101017       300\n",
      "101018       280\n",
      "101019       268\n",
      "101020       240\n",
      "101021       240\n",
      "101022       240\n",
      "101023       213\n",
      "101024       173\n",
      "101025       148\n",
      "101026       112\n",
      "Name: finishedsquarefeet15, Length: 101027, dtype: int64\n"
     ]
    }
   ],
   "source": [
    "df = pd.read_csv('/Users/punit/SBU/Acads/DSF/Assignments/HW2/pc_area_land_value.csv') # TODO: Need to change these files' locations\n",
    "land_val = df['landtaxvaluedollarcnt']\n",
    "total_area = df['finishedsquarefeet15']\n",
    "print (total_area)"
   ]
  },
  {
   "cell_type": "code",
   "execution_count": 27,
   "metadata": {},
   "outputs": [
    {
     "name": "stdout",
     "output_type": "stream",
     "text": [
      "0.27257905741\n"
     ]
    }
   ],
   "source": [
    "P3 = numpy.corrcoef(land_val, total_area)\n",
    "print (P3[0][1]) # = 0.27257905741"
   ]
  },
  {
   "cell_type": "code",
   "execution_count": null,
   "metadata": {
    "collapsed": true
   },
   "outputs": [],
   "source": []
  }
 ],
 "metadata": {
  "kernelspec": {
   "display_name": "Python 3",
   "language": "python",
   "name": "python3"
  },
  "language_info": {
   "codemirror_mode": {
    "name": "ipython",
    "version": 3
   },
   "file_extension": ".py",
   "mimetype": "text/x-python",
   "name": "python",
   "nbconvert_exporter": "python",
   "pygments_lexer": "ipython3",
   "version": "3.6.1"
  }
 },
 "nbformat": 4,
 "nbformat_minor": 2
}
